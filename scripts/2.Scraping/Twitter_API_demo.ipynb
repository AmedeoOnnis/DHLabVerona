{
  "nbformat": 4,
  "nbformat_minor": 0,
  "metadata": {
    "colab": {
      "name": "Twitter_API_demo.ipynb",
      "provenance": [],
      "collapsed_sections": []
    },
    "kernelspec": {
      "name": "python3",
      "display_name": "Python 3"
    },
    "language_info": {
      "name": "python"
    }
  },
  "cells": [
    {
      "cell_type": "markdown",
      "source": [
        "## 0. Preparation\n",
        "\n",
        "You have to move the API keys (in a .csv file) into the working folder (use the panel on the left) "
      ],
      "metadata": {
        "id": "chEt2JOIePz0"
      }
    },
    {
      "cell_type": "markdown",
      "source": [
        "## 1. TwitterAPI package"
      ],
      "metadata": {
        "id": "fFbkpE-5grPF"
      }
    },
    {
      "cell_type": "code",
      "source": [
        "!pip install TwitterAPI"
      ],
      "metadata": {
        "id": "i1-vZSmvDUbc",
        "outputId": "e65488c2-9aa3-498e-f274-4e96c1a8a4f8",
        "colab": {
          "base_uri": "https://localhost:8080/"
        }
      },
      "execution_count": 10,
      "outputs": [
        {
          "output_type": "stream",
          "name": "stdout",
          "text": [
            "Requirement already satisfied: TwitterAPI in /usr/local/lib/python3.7/dist-packages (2.7.12)\n",
            "Requirement already satisfied: requests in /usr/local/lib/python3.7/dist-packages (from TwitterAPI) (2.23.0)\n",
            "Requirement already satisfied: requests-oauthlib in /usr/local/lib/python3.7/dist-packages (from TwitterAPI) (1.3.1)\n",
            "Requirement already satisfied: idna<3,>=2.5 in /usr/local/lib/python3.7/dist-packages (from requests->TwitterAPI) (2.10)\n",
            "Requirement already satisfied: certifi>=2017.4.17 in /usr/local/lib/python3.7/dist-packages (from requests->TwitterAPI) (2021.10.8)\n",
            "Requirement already satisfied: urllib3!=1.25.0,!=1.25.1,<1.26,>=1.21.1 in /usr/local/lib/python3.7/dist-packages (from requests->TwitterAPI) (1.24.3)\n",
            "Requirement already satisfied: chardet<4,>=3.0.2 in /usr/local/lib/python3.7/dist-packages (from requests->TwitterAPI) (3.0.4)\n",
            "Requirement already satisfied: oauthlib>=3.0.0 in /usr/local/lib/python3.7/dist-packages (from requests-oauthlib->TwitterAPI) (3.2.0)\n"
          ]
        }
      ]
    },
    {
      "cell_type": "code",
      "source": [
        "from TwitterAPI import TwitterAPI\n",
        "import pandas as pd"
      ],
      "metadata": {
        "id": "3pDzUzvpDFgJ"
      },
      "execution_count": 11,
      "outputs": []
    },
    {
      "cell_type": "code",
      "execution_count": 12,
      "metadata": {
        "id": "mlaQIUX8DCk0"
      },
      "outputs": [],
      "source": [
        "my_keys = pd.read_csv('TwitterAPI.csv')\n",
        "\n",
        "consumer_key = my_keys.iloc[0][1]\n",
        "consumer_secret = my_keys.iloc[1][1]"
      ]
    },
    {
      "cell_type": "code",
      "source": [
        "api = TwitterAPI(consumer_key,\n",
        "                 consumer_secret,\n",
        "                 api_version='2', \n",
        "                 auth_type='oAuth2')"
      ],
      "metadata": {
        "id": "eqUhd6wbfDvZ"
      },
      "execution_count": 13,
      "outputs": []
    },
    {
      "cell_type": "code",
      "source": [
        "r = api.request('tweets/search/recent', {\n",
        "        'query':'pizza',\n",
        "        'tweet.fields':'author_id',\n",
        "        'tweet.fields':'created_at',\n",
        "        'expansions':'author_id',\n",
        "        'max_results':100})\n",
        "for item in r:\n",
        "        print(item)"
      ],
      "metadata": {
        "id": "4QoAHKeVDtXg",
        "outputId": "38b1564b-76e4-4463-dd53-0d59e44d70ae",
        "colab": {
          "base_uri": "https://localhost:8080/"
        }
      },
      "execution_count": 14,
      "outputs": [
        {
          "output_type": "stream",
          "name": "stdout",
          "text": [
            "{'author_id': '733522466367102980', 'id': '1499707338315698178', 'text': \"RT @captainuwu: Jungwoo : If you can't capture it through photo, you capture with your eyes?\\nJohnny : Yes~ \\nJW : Eyes on me\\nJN : You use En…\", 'created_at': '2022-03-04T11:24:27.000Z'}\n",
            "{'author_id': '2909904461', 'id': '1499707336360964100', 'text': 'RT @timiPR: Dominos and giving awoof 🤝\\nImagine buying any Medium Chickenpie, BBQ Beef, BBQ chicken pizza for just N2800. \\n\\nNa there I go de…', 'created_at': '2022-03-04T11:24:26.000Z'}\n",
            "{'author_id': '3396116080', 'id': '1499707335933050883', 'text': 'A beloved celebrity vegan, a $2m fraud, and the Domino’s pizza that brought her down  https://t.co/piWSHP9dVk', 'created_at': '2022-03-04T11:24:26.000Z'}\n",
            "{'author_id': '1491166316039790600', 'id': '1499707308296658945', 'text': 'Finished a whole box of pizza, what is up???', 'created_at': '2022-03-04T11:24:20.000Z'}\n",
            "{'author_id': '1273547569357107201', 'id': '1499707306031947776', 'text': '@Jane_Banane__ @Petra04894866 @oliver93877389 ich muss mal gemein sein, meine Kinder basteln grad Pizza', 'created_at': '2022-03-04T11:24:19.000Z'}\n",
            "{'author_id': '1363540935968059392', 'id': '1499707304165490689', 'text': '@offclASTRO I invite you to eat pizza 💗\\n\\n#REFUGE #MOONBIN_SANHA_WHO #문빈_산하 #MOONBIN_SANHA #SANHA #아스트로 #ASTRO', 'created_at': '2022-03-04T11:24:19.000Z'}\n",
            "{'author_id': '1452251221960630279', 'id': '1499707299409108993', 'text': 'RT @pizzamanghana: Let the pizza do the talking, wadi bi da? 😁 https://t.co/CbGgjFtDKV', 'created_at': '2022-03-04T11:24:18.000Z'}\n",
            "{'author_id': '1413513484885757966', 'id': '1499707291817361418', 'text': '@Seteetobaja una pizza', 'created_at': '2022-03-04T11:24:16.000Z'}\n",
            "{'author_id': '2823990876', 'id': '1499707290995560448', 'text': '@Qixjine Yes. Its good. But should remind u that dont eat them before eating the cheesy pizza😭😭 its uwekkkk', 'created_at': '2022-03-04T11:24:16.000Z'}\n",
            "{'author_id': '1438852662343180292', 'id': '1499707288973676545', 'text': 'RT @Dspspunky: 🇬🇭 Relationship\\nDay1=Pizza\\nDay2=KFC\\nDay3=Agree\\nDay4=Date\\nDay6=Date &amp; hug\\nDay7=Tried to peck but failed\\nDay8=Peck\\nDay9=Tried…', 'created_at': '2022-03-04T11:24:15.000Z'}\n",
            "{'author_id': '1496137620426207237', 'id': '1499707282682413056', 'text': 'Meet the RocketCrew - Anand Morwani (Chief Pizzaiolo who loves to double everything in a pizza)\\n\\nAnand is founding-partner and chef at Brewbot, a chain of craft beer bars. His passion and inspiration \\nfor our signature Detroit-style pizza’s came from his mom’s kitchen. https://t.co/RkThnSjFEb', 'created_at': '2022-03-04T11:24:14.000Z'}\n",
            "{'author_id': '255621560', 'id': '1499707276734705665', 'text': 'RT @StrictlyChristo: Capturing Russian tanks and eating some pizza https://t.co/S1VvTAtK2U', 'created_at': '2022-03-04T11:24:12.000Z'}\n",
            "{'author_id': '1108565574', 'id': '1499707274834505731', 'text': 'RT @kerryn37679503: @polgodsgirl @LesStonehouse @FuriousLives @sortius @MorialtaMuse @sallymcmanus Now we know why there’s a obesity proble…', 'created_at': '2022-03-04T11:24:12.000Z'}\n",
            "{'author_id': '1494674460305072130', 'id': '1499707271604957186', 'text': '@Netaji_bond_ Hmm I agree with him though indian agency should provide 5 star facilities in the evacuation planes.\\n\\nFacilities such as, swimming pool, pizza shop, burgers &amp; booze should be provided going forward during evacuating and they should arrange Bollywood &amp; Hollywood in the planes', 'created_at': '2022-03-04T11:24:11.000Z'}\n",
            "{'author_id': '1481587322768732161', 'id': '1499707269260652545', 'text': '@yuniiho You have pizza machines, we have toy capsules https://t.co/meNWY9nKLI', 'created_at': '2022-03-04T11:24:10.000Z'}\n",
            "{'author_id': '1364756887141576704', 'id': '1499707251464065024', 'text': '@LunarGabriel1 Pizza rolls are just Italian gushers.', 'created_at': '2022-03-04T11:24:06.000Z'}\n",
            "{'author_id': '1478029379917987840', 'id': '1499707251162226691', 'text': 'RT @okinawa_meguri: 【ピザハウスジュニア】\\n\\nhttps://t.co/xoSeoBSFci\\n\\nピザハウスジュニアは、ピザハウスとして現在の沖縄市（旧コザ市）に1958年にオープン。\\n\\n沖縄県にしかない、アメリカンな雰囲気を満喫できるインターナショナルレスト…', 'created_at': '2022-03-04T11:24:06.000Z'}\n",
            "{'author_id': '1242045818355347457', 'id': '1499707245009207301', 'text': '@karasumi_pizza ピタゴラスイッチみたいに自分のデッキがグルグル回るのが最高に楽しい。', 'created_at': '2022-03-04T11:24:05.000Z'}\n",
            "{'author_id': '786818345320517632', 'id': '1499707229859155970', 'text': 'RT @thebellman: @guardian Dominic Raab probably wants to put on camouflage, fly to Moscow and head butt Putin. His ability to think through…', 'created_at': '2022-03-04T11:24:01.000Z'}\n",
            "{'author_id': '996699743735635968', 'id': '1499707229129383943', 'text': 'after my hotpot and fried chicken craving has been satisfied i now crave açai and pizza', 'created_at': '2022-03-04T11:24:01.000Z'}\n",
            "{'author_id': '1420312844604637185', 'id': '1499707226725892099', 'text': 'RT @ksononair: PIZZA\\nANAL\\nSUCCESS\\n😭👏', 'created_at': '2022-03-04T11:24:00.000Z'}\n",
            "{'author_id': '4189553651', 'id': '1499707222430994435', 'text': \"RT @EvenMoreMuffins: getting some nonbinary pizza at little xi/xir's\", 'created_at': '2022-03-04T11:23:59.000Z'}\n",
            "{'author_id': '4889077187', 'id': '1499707218471567364', 'text': 'RT @APanserbjorn: Bears have very sensitive noses. We can detect your pizza from miles away! ʕ•ᴥ•ʔ https://t.co/T0mguc7SVs', 'created_at': '2022-03-04T11:23:58.000Z'}\n",
            "{'author_id': '1492974875480313863', 'id': '1499707211504828417', 'text': '@PapaJohnsTrophy @PapaJohns Free pizza as well?', 'created_at': '2022-03-04T11:23:57.000Z'}\n",
            "{'author_id': '1496571315888685057', 'id': '1499707200503123970', 'text': 'Pizza consists of mushrooms, older than the earth!', 'created_at': '2022-03-04T11:23:54.000Z'}\n",
            "{'author_id': '210858372', 'id': '1499707191548420100', 'text': '@Luis_ao_ @LuizasNathy O segundo nem é sabor de pizza 👀', 'created_at': '2022-03-04T11:23:52.000Z'}\n",
            "{'author_id': '1297541588155957253', 'id': '1499707182052704256', 'text': '@_pizza_la その気持ちわかる。こんな感じでしょ。 https://t.co/edSjAUUMvC', 'created_at': '2022-03-04T11:23:50.000Z'}\n",
            "{'author_id': '1352693697427738626', 'id': '1499707175903637512', 'text': \"@filmcriss yeah I really fucking don't because it's dogshit\\n\\nlicorice pizza sweep &gt;&gt;&gt;&gt;&gt;\", 'created_at': '2022-03-04T11:23:48.000Z'}\n",
            "{'author_id': '1404239584226168841', 'id': '1499707174385246210', 'text': 'frango combina mto com guarana... tipo, uma pizza de frango, lasanha de frango, pastel de frango, mto melhor do que tomar com coquinha', 'created_at': '2022-03-04T11:23:48.000Z'}\n",
            "{'author_id': '1442178208950939656', 'id': '1499707171080400898', 'text': '@pizza_dk_97 こちらこそです！\\n私も呼びタメ大歓迎ですのでお互いタメにしましょ\\U0001f90d\\U0001f90d\\nなんて呼んだらいいかな？？？', 'created_at': '2022-03-04T11:23:47.000Z'}\n",
            "{'author_id': '243089622', 'id': '1499707158987825154', 'text': 'Alana Haim in Licorice Pizza... So 😍😍😍 https://t.co/uW9yYKlkCm', 'created_at': '2022-03-04T11:23:44.000Z'}\n",
            "{'author_id': '2880607849', 'id': '1499707151153242118', 'text': 'nangala ko sailang pizza TABAAAANNGGG', 'created_at': '2022-03-04T11:23:42.000Z'}\n",
            "{'author_id': '3322406282', 'id': '1499707147328028675', 'text': '@karasumi_pizza 力に対して力で殴り返すのが良い。一方的に押し潰すのは好きじゃない(´ω｀)', 'created_at': '2022-03-04T11:23:41.000Z'}\n",
            "{'author_id': '1069612371994394624', 'id': '1499707129053077507', 'text': '@glosssstv Sigo insistiendo en que la piña está de puta madre y le da un toque rebelde a una pizza???? https://t.co/T0AlTc2chb', 'created_at': '2022-03-04T11:23:37.000Z'}\n",
            "{'author_id': '482274162', 'id': '1499707127778222082', 'text': 'RT @braindeaf: @SARDJV Thank you for all of the monies, pizza, away days, colleagues, challenges, support, responsibilities, code to unpick…', 'created_at': '2022-03-04T11:23:37.000Z'}\n",
            "{'author_id': '1030390746132738048', 'id': '1499707125802618881', 'text': 'cuándo piensa el último trozo de pizza subir disko a spotify?', 'created_at': '2022-03-04T11:23:36.000Z'}\n",
            "{'author_id': '1491215104020525059', 'id': '1499707114121535490', 'text': \"domino's pizza based!!!!!\", 'created_at': '2022-03-04T11:23:33.000Z'}\n",
            "{'author_id': '1082954230682537986', 'id': '1499707113291067396', 'text': 'RT @Tife_fabunmi: Omo Dominos is selling Medium Chickenpie, BBQ Beef, BBQ Chicken pizza for just N2,800 in Lagos and N3,000 in Abuja..:see…', 'created_at': '2022-03-04T11:23:33.000Z'}\n",
            "{'author_id': '1481976825492512769', 'id': '1499707112771002369', 'text': 'Hurry! \\nWe are now available on Food Panda! Open your Food Panda App and order our range of burgers, pizza, grilled chicken, fish, drinks and get it delivered right to your doorsteps.\\n\\n#24sevenbpc #foodpanda #grabfood #foodie #food #delivery #fooddelivery https://t.co/TFJEU4D0fF', 'created_at': '2022-03-04T11:23:33.000Z'}\n",
            "{'author_id': '1332595905275572227', 'id': '1499707093019987973', 'text': \"RT @foodandwine: Don't let your pizza cool before you cut it. https://t.co/c3ODiW6DiB\", 'created_at': '2022-03-04T11:23:28.000Z'}\n",
            "{'author_id': '60162988', 'id': '1499707092692877312', 'text': '@aquelerebelde Por falar em confirmar ou negar, em uma pesquisa superficial que fiz no google há uma guerra sobre a veracidade da separação. Talvez o velho pense que casamento é igual política e seja possível negar um fato até que acabe em pizza.', 'created_at': '2022-03-04T11:23:28.000Z'}\n",
            "{'author_id': '1204157606262136835', 'id': '1499707087764570114', 'text': '@Karkenox_ WHAT KIND OF PIZZA', 'created_at': '2022-03-04T11:23:27.000Z'}\n",
            "{'author_id': '3304836587', 'id': '1499707085495357441', 'text': 'Espero que te guste la pizza con sabor a moco líquido https://t.co/UYi6K5LFgx', 'created_at': '2022-03-04T11:23:27.000Z'}\n",
            "{'author_id': '1497425767667421185', 'id': '1499707082248888327', 'text': '@DJ_GIVEAWAY2 @DJ__WINNERS Can I ask even just a piece of pizza, please??', 'created_at': '2022-03-04T11:23:26.000Z'}\n",
            "{'author_id': '1343236309981138945', 'id': '1499707068265431046', 'text': '@FOOD_FESS pizza mania ga kenyang nder kl di aku', 'created_at': '2022-03-04T11:23:22.000Z'}\n",
            "{'author_id': '198634019', 'id': '1499707062187708416', 'text': '@lywlangelica E tu num pode comer pizza não? Beber não tá nós meus planos, só comer uma pizza', 'created_at': '2022-03-04T11:23:21.000Z'}\n",
            "{'author_id': '1399718165022752780', 'id': '1499707054361088004', 'text': '@danstttt eu amo pizza mas diria q cu eh inquestionavelmente melhor', 'created_at': '2022-03-04T11:23:19.000Z'}\n",
            "{'author_id': '2596843171', 'id': '1499707049747357699', 'text': '@ZannSuz Neither pineapple 🍍 nor pizza 🍕 reached their full potential until they were combined. https://t.co/FZoq7JaA9s', 'created_at': '2022-03-04T11:23:18.000Z'}\n",
            "{'author_id': '2351705531', 'id': '1499707020538261507', 'text': 'Veo al pasado y debo admitir que extraño los pretzels de pizza del Mall del sol y un poco la época del colegio, pero es por la costumbre', 'created_at': '2022-03-04T11:23:11.000Z'}\n",
            "{'author_id': '129369243', 'id': '1499707018826952705', 'text': \"Fitness goals? Fit'ness whole pizza in my mouth-- oh you actually mean the gym?\", 'created_at': '2022-03-04T11:23:11.000Z'}\n",
            "{'author_id': '569596133', 'id': '1499707011033882627', 'text': 'RT @80sThen80sNow: Did You Know Showbiz Pizza Was Founded on March 3rd 1980?\\n\\n(The Restaurant Merged into Chuck E. Cheese in 1992.)\\n\\n#Showb…', 'created_at': '2022-03-04T11:23:09.000Z'}\n",
            "{'author_id': '1234867489802215425', 'id': '1499707007800070144', 'text': 'RT @AliciaAtout: Awesome day. I ate too much pizza. PS. This shirt is glorious. ☠️❤️\\u200d🔥 https://t.co/ttNjtciP2e', 'created_at': '2022-03-04T11:23:08.000Z'}\n",
            "{'author_id': '1480681069443960832', 'id': '1499707001500147714', 'text': 'CM情報で全CM見れる🧡💙\\n #ピザーラ\\n #浮所飛貴 くん\\n #那須雄登 くん\\n\\nhttps://t.co/iWYzvgGl62 https://t.co/DWtcK22QnE', 'created_at': '2022-03-04T11:23:07.000Z'}\n",
            "{'author_id': '1257928919782584325', 'id': '1499706992901959687', 'text': '@DeadddLuke pizza', 'created_at': '2022-03-04T11:23:04.000Z'}\n",
            "{'author_id': '1278609364102770694', 'id': '1499706981963087874', 'text': '@polgodsgirl @LesStonehouse @FuriousLives @sortius @MorialtaMuse @sallymcmanus Now we know why there’s a obesity problem. Feeding my family of 4 is costing on average $60 for dinner…. A decent meal meat and veg. But why do that when you can get pizza or fried chicken and feed your whole family for $30 🤷\\u200d♀️', 'created_at': '2022-03-04T11:23:02.000Z'}\n",
            "{'author_id': '206834645', 'id': '1499706963990659074', 'text': '@Sariscel Breaking bad was so good. Sorry for the pizza mistreatment you had to witness. 😔', 'created_at': '2022-03-04T11:22:58.000Z'}\n",
            "{'author_id': '972876620297064448', 'id': '1499706963906727937', 'text': 'RT @JoeLongBalls: New Yorkers when they leave the state for the first time in their life and find out everywhere else on earth has pizza, c…', 'created_at': '2022-03-04T11:22:58.000Z'}\n",
            "{'author_id': '4182531610', 'id': '1499706945854443520', 'text': \"va falloir que j'aille faire chauffer ma pizza\", 'created_at': '2022-03-04T11:22:53.000Z'}\n",
            "{'author_id': '1280769995211931648', 'id': '1499706936660402181', 'text': 'Creme com gotas sabor Pizza', 'created_at': '2022-03-04T11:22:51.000Z'}\n",
            "{'author_id': '1104241154575425536', 'id': '1499706929048059906', 'text': '@Casagrandezz West have spoiled pizza , authentic pizza from Italy is healthy .', 'created_at': '2022-03-04T11:22:49.000Z'}\n",
            "{'author_id': '1496137620426207237', 'id': '1499706913621045250', 'text': \"Meet the RocketCrew - Rohan Mangalorkar (Founder of Pack-A-Pav and pizza connoisseur) \\n\\nRohan founded Pack-A-Pav back in 2015. It specialises in Pav Sandwiches. With Rohan’s and Anand's common love for bread, they both united and started the square and proud - RocketMan Pizza! https://t.co/lBsFqyNExL\", 'created_at': '2022-03-04T11:22:46.000Z'}\n",
            "{'author_id': '1494584574256558094', 'id': '1499706903454273536', 'text': '🍕 IN PIZZA WE TRUST Limited Edition NFT https://t.co/IyGVdXvqEN\\n#NFTArt #artnft #NFTArtCollector #NFTcollector #OpenSeaNFT #newdrop #openseamarketplace  #NFTArtwork #LimitedEdition #NftArtCollection  @mitxel_nftart', 'created_at': '2022-03-04T11:22:43.000Z'}\n",
            "{'author_id': '956839860903411713', 'id': '1499706902963318785', 'text': 'SEB which i love bc in so many movies they have restaurants and pizza places called seb’s so i just pretend i own them https://t.co/2gdXevbylK', 'created_at': '2022-03-04T11:22:43.000Z'}\n",
            "{'author_id': '1271662115355602944', 'id': '1499706895782670339', 'text': 'Survivor 21: Pizza Hut (Outshit,Outside,Outlast)', 'created_at': '2022-03-04T11:22:41.000Z'}\n",
            "{'author_id': '4054493781', 'id': '1499706880163205120', 'text': '@Chip_Douglas_ @LargeBarstool @AnneMcCarthy @twistedhistory It’s a sheet pizza product made by @SchwansCompany - and an entire generation of #generationx thinks #schoolpizza is delicious!  Did you know they are still dazzling people with this product and many of the bake-at-home frozen brands that people love??', 'created_at': '2022-03-04T11:22:38.000Z'}\n",
            "{'author_id': '2466004381', 'id': '1499706869849653252', 'text': 'RT @fishandugio: @karasumi_pizza お互いに展開して効果と攻撃力をぶつけ合う決闘がしたいっす笑', 'created_at': '2022-03-04T11:22:35.000Z'}\n",
            "{'author_id': '1449829229508669442', 'id': '1499706869186707457', 'text': '@Javad_pizza عه حله😂🤝🏻', 'created_at': '2022-03-04T11:22:35.000Z'}\n",
            "{'author_id': '294367724', 'id': '1499706851944177670', 'text': \"@_bradramos Pretty sure that's the Pizza Hut uniform :P\", 'created_at': '2022-03-04T11:22:31.000Z'}\n",
            "{'author_id': '1462169895660146690', 'id': '1499706843064537091', 'text': 'RT @goddessamyxxo: I want £20 for my pizza right now.\\n\\nFindom paypig finsub finD cuck JOI buyingcontent sellingcontent walletdrain humanATM…', 'created_at': '2022-03-04T11:22:29.000Z'}\n",
            "{'author_id': '338275624', 'id': '1499706839218413572', 'text': \"RT @Dan_Coatsworth: A pleasure to be on @CalumAM's @TimesRadio show this morning talking markets, inflation, commodities, Domino's Pizza an…\", 'created_at': '2022-03-04T11:22:28.000Z'}\n",
            "{'author_id': '1225357252003028992', 'id': '1499706835804344320', 'text': 'RT @MrMoregame: Sie ist mir zwar beim rausholen etwas kaputt gegangen wegen eigener Dummheit aber.. LOVE IT 11/10. Kein witz. Wer Fischstäb…', 'created_at': '2022-03-04T11:22:27.000Z'}\n",
            "{'author_id': '993452058001920000', 'id': '1499706814199476232', 'text': 'RT @Tife_fabunmi: Omo Dominos is selling Medium Chickenpie, BBQ Beef, BBQ Chicken pizza for just N2,800 in Lagos and N3,000 in Abuja..:see…', 'created_at': '2022-03-04T11:22:22.000Z'}\n",
            "{'author_id': '787981019710230528', 'id': '1499706811502366723', 'text': '@pizza_taberenai まじー！！！！！！日付言って予定入れんとく', 'created_at': '2022-03-04T11:22:21.000Z'}\n",
            "{'author_id': '1310522437591691270', 'id': '1499706809929584648', 'text': 'Make Bread Pizza Rolls Like Pizza For\\xa0Kids https://t.co/dNKz1ztxEX', 'created_at': '2022-03-04T11:22:21.000Z'}\n",
            "{'author_id': '1462084646104145921', 'id': '1499706806746165249', 'text': \"@Raymo72135972 @ProfKrisChen @OleSpeaks @NoDMsPerfavore Yeah and @olespeaks is correct. Florida has the worst pizza. I'm a trucker now, that was in also in the army. Georgia, Texas, South Carolina, they have some terrible pizza too. Chicago pizza is called a calzone in CT lol. For my money Greek style, CT pizza is probably my favorite\", 'created_at': '2022-03-04T11:22:20.000Z'}\n",
            "{'author_id': '1227619437777489922', 'id': '1499706804779077633', 'text': \"ce soir je mange pizza et vous savez à\\nquelle musique j'vais penser les stays\", 'created_at': '2022-03-04T11:22:20.000Z'}\n",
            "{'author_id': '928305004783525888', 'id': '1499706794180067332', 'text': \"I've been on a diet since 3 Jan.  If I'm going to be vaporised, I don't want my last meal to have been tuna and salad so I'm back on the pizza and cheesecake #nuclearwar #WARINUKRAINE #NuclearPowerPlant #pizza\", 'created_at': '2022-03-04T11:22:17.000Z'}\n",
            "{'author_id': '1158944504604483584', 'id': '1499706793009815553', 'text': 'Dominos and giving awoof 🤝\\nImagine buying any Medium Chickenpie, BBQ Beef, BBQ chicken pizza for just N2800. \\n\\nNa there I go dey chop lunch everyday now😂\\n\\nOrder here: https://t.co/adwv3QiJoX https://t.co/H12zrzMgJq', 'created_at': '2022-03-04T11:22:17.000Z'}\n",
            "{'author_id': '956832861180502017', 'id': '1499706792892592129', 'text': 'RT @PLUCKdump: ライナーの到着が早すぎた\\nEren is gobbling down a pizza ! ! ! \\n#shingeki #進撃の巨人 https://t.co/u58iYc3NMj', 'created_at': '2022-03-04T11:22:17.000Z'}\n",
            "{'author_id': '3325836038', 'id': '1499706789943975937', 'text': \"Meryenda at dinner, ANGEL'S PIZZA.\\n\\nInferlalu fave ko na sya:) https://t.co/kti9nXwXdX\", 'created_at': '2022-03-04T11:22:16.000Z'}\n",
            "{'author_id': '1462989627799703559', 'id': '1499706784436858882', 'text': 'RT @DJ_GIVEAWAY2: Friday Special 👀🍕\\n\\nGigantic pizza for a random person ♥️\\n\\nIf it gets 3k RTs, another random person gets a Gigantic pizza…', 'created_at': '2022-03-04T11:22:15.000Z'}\n",
            "{'author_id': '1565214727', 'id': '1499706783451201537', 'text': 'RT @pizzala_jp: ／ \\n第2弾鬼滅の刃ピザパック本日発売‼\\n＼\\n\\n特製スリーブとアクリルフィギュアがセットになった期間限定ピザパック🍕\\n\\n第2弾のキャラクターはこちら！\\n🎴竈門炭治郎\\n🌊冨岡義勇\\n🔥煉獄杏寿郎\\n🎀栗花落カナヲ\\n💎宇髄天元\\n\\n【コンプリートセット】も…', 'created_at': '2022-03-04T11:22:15.000Z'}\n",
            "{'author_id': '1275324690161192961', 'id': '1499706777260146689', 'text': 'RT @Tife_fabunmi: Omo Dominos is selling Medium Chickenpie, BBQ Beef, BBQ Chicken pizza for just N2,800 in Lagos and N3,000 in Abuja..:see…', 'created_at': '2022-03-04T11:22:13.000Z'}\n",
            "{'author_id': '1363801815905693697', 'id': '1499706768104083456', 'text': 'ZROBILA MI SIE PIZZA', 'created_at': '2022-03-04T11:22:11.000Z'}\n",
            "{'author_id': '1415393187477270537', 'id': '1499706766954741767', 'text': \"Cows live on top of their food. To them it's like living on a pizza.\", 'created_at': '2022-03-04T11:22:11.000Z'}\n",
            "{'author_id': '1201546309343293441', 'id': '1499706760176807936', 'text': 'RT @yuniiho: You have vending machines? We have pizza machines. https://t.co/24IOZRzTkw', 'created_at': '2022-03-04T11:22:09.000Z'}\n",
            "{'author_id': '285617218', 'id': '1499706759786676233', 'text': '@ByronsShade \"Pizza\" made in the microwave using white bread, ketchup as sauce, and process cheese slices.', 'created_at': '2022-03-04T11:22:09.000Z'}\n",
            "{'author_id': '1493461207881240581', 'id': '1499706755063889926', 'text': '@Laurazepam65 Di solito funziona . Poi certo, se in cucina fai cagare meglio una pizza da asporto mangiata al parco . Poi certo se piove magari mangiata in macchina. Poi certo se sei talmente povero da non avere la macchina abbandona tutto', 'created_at': '2022-03-04T11:22:08.000Z'}\n",
            "{'author_id': '460881218', 'id': '1499706739440164867', 'text': 'É muito louco pensar que o diretor de Licorice Pizza também fez Sangue Negro, queria visitar a mente do PTA por uns 2min', 'created_at': '2022-03-04T11:22:04.000Z'}\n",
            "{'author_id': '1463741261945315329', 'id': '1499706726580252673', 'text': '@pizza_030v 에이  부족하다뇨  아니예요  너무설레요!', 'created_at': '2022-03-04T11:22:01.000Z'}\n",
            "{'author_id': '1398583649218535426', 'id': '1499706719802466309', 'text': '@beyondnrg Chill with the family then drink beyond and Grind apex/eat pizza hut in any spare time!', 'created_at': '2022-03-04T11:21:59.000Z'}\n",
            "{'author_id': '1408459824111755268', 'id': '1499706710977613828', 'text': 'RT @ksononair: PIZZA\\nANAL\\nSUCCESS\\n😭👏', 'created_at': '2022-03-04T11:21:57.000Z'}\n",
            "{'author_id': '198250090', 'id': '1499706708863725572', 'text': '@CandidaCe85 Pizza, chocolate e cerveja', 'created_at': '2022-03-04T11:21:57.000Z'}\n",
            "{'author_id': '1449829229508669442', 'id': '1499706703914442752', 'text': '@Javad_pizza https://t.co/cReqcoo2eB', 'created_at': '2022-03-04T11:21:56.000Z'}\n",
            "{'author_id': '1134508833034842112', 'id': '1499706703658602496', 'text': '@pizza_taberenai なんでもあるし何も無い（）', 'created_at': '2022-03-04T11:21:56.000Z'}\n",
            "{'author_id': '2615477886', 'id': '1499706689985171456', 'text': 'Pqp mano pizza a 85conto.', 'created_at': '2022-03-04T11:21:52.000Z'}\n",
            "{'author_id': '1462989627799703559', 'id': '1499706688760283136', 'text': 'RT @DJ_GIVEAWAY2: Picking the Gigantic Pizza winner soon 🍕🍕', 'created_at': '2022-03-04T11:21:52.000Z'}\n",
            "{'author_id': '1883340332', 'id': '1499706687854415875', 'text': '@RSchreibt Sind das Ananas oder Kohlrabi auf deiner Pizza?', 'created_at': '2022-03-04T11:21:52.000Z'}\n",
            "{'author_id': '962759168179437568', 'id': '1499706672071299074', 'text': '@Javad_pizza امیدوارممم', 'created_at': '2022-03-04T11:21:48.000Z'}\n",
            "{'author_id': '1463656479140024332', 'id': '1499706670649380864', 'text': 'money, pizza and......ANAL? https://t.co/ksHNWVyYVu', 'created_at': '2022-03-04T11:21:48.000Z'}\n"
          ]
        }
      ]
    },
    {
      "cell_type": "markdown",
      "source": [
        "More details on the query arguments: https://developer.twitter.com/en/docs/twitter-api/tweets/search/api-reference/get-tweets-search-recent"
      ],
      "metadata": {
        "id": "VuXuHCqpgVxd"
      }
    },
    {
      "cell_type": "markdown",
      "source": [
        "## 2. TWARC"
      ],
      "metadata": {
        "id": "g_KEJrNtguSj"
      }
    },
    {
      "cell_type": "code",
      "source": [
        "!pip install twarc\n",
        "!pip3 install --upgrade twarc-csv"
      ],
      "metadata": {
        "id": "LgFZiH0Ag1S9",
        "outputId": "348933e0-38e1-4c16-eeb4-0e382a45adb8",
        "colab": {
          "base_uri": "https://localhost:8080/"
        }
      },
      "execution_count": 15,
      "outputs": [
        {
          "output_type": "stream",
          "name": "stdout",
          "text": [
            "Collecting twarc\n",
            "  Downloading twarc-2.9.4-py3-none-any.whl (55 kB)\n",
            "\u001b[?25l\r\u001b[K     |█████▉                          | 10 kB 20.0 MB/s eta 0:00:01\r\u001b[K     |███████████▊                    | 20 kB 24.4 MB/s eta 0:00:01\r\u001b[K     |█████████████████▋              | 30 kB 29.8 MB/s eta 0:00:01\r\u001b[K     |███████████████████████▌        | 40 kB 30.3 MB/s eta 0:00:01\r\u001b[K     |█████████████████████████████▍  | 51 kB 32.7 MB/s eta 0:00:01\r\u001b[K     |████████████████████████████████| 55 kB 3.6 MB/s \n",
            "\u001b[?25hRequirement already satisfied: click<9,>=7 in /usr/local/lib/python3.7/dist-packages (from twarc) (7.1.2)\n",
            "Collecting humanize>=3.9\n",
            "  Downloading humanize-4.0.0-py3-none-any.whl (97 kB)\n",
            "\u001b[K     |████████████████████████████████| 97 kB 6.5 MB/s \n",
            "\u001b[?25hRequirement already satisfied: tqdm>=4.62 in /usr/local/lib/python3.7/dist-packages (from twarc) (4.63.0)\n",
            "Requirement already satisfied: python-dateutil>=2.8 in /usr/local/lib/python3.7/dist-packages (from twarc) (2.8.2)\n",
            "Collecting click-config-file>=0.6\n",
            "  Downloading click_config_file-0.6.0-py2.py3-none-any.whl (6.0 kB)\n",
            "Collecting click-plugins>=1\n",
            "  Downloading click_plugins-1.1.1-py2.py3-none-any.whl (7.5 kB)\n",
            "Requirement already satisfied: requests-oauthlib>=1.3 in /usr/local/lib/python3.7/dist-packages (from twarc) (1.3.1)\n",
            "Collecting configobj>=5.0.6\n",
            "  Downloading configobj-5.0.6.tar.gz (33 kB)\n",
            "Requirement already satisfied: six in /usr/local/lib/python3.7/dist-packages (from configobj>=5.0.6->click-config-file>=0.6->twarc) (1.15.0)\n",
            "Requirement already satisfied: importlib-metadata in /usr/local/lib/python3.7/dist-packages (from humanize>=3.9->twarc) (4.11.2)\n",
            "Requirement already satisfied: oauthlib>=3.0.0 in /usr/local/lib/python3.7/dist-packages (from requests-oauthlib>=1.3->twarc) (3.2.0)\n",
            "Requirement already satisfied: requests>=2.0.0 in /usr/local/lib/python3.7/dist-packages (from requests-oauthlib>=1.3->twarc) (2.23.0)\n",
            "Requirement already satisfied: urllib3!=1.25.0,!=1.25.1,<1.26,>=1.21.1 in /usr/local/lib/python3.7/dist-packages (from requests>=2.0.0->requests-oauthlib>=1.3->twarc) (1.24.3)\n",
            "Requirement already satisfied: certifi>=2017.4.17 in /usr/local/lib/python3.7/dist-packages (from requests>=2.0.0->requests-oauthlib>=1.3->twarc) (2021.10.8)\n",
            "Requirement already satisfied: idna<3,>=2.5 in /usr/local/lib/python3.7/dist-packages (from requests>=2.0.0->requests-oauthlib>=1.3->twarc) (2.10)\n",
            "Requirement already satisfied: chardet<4,>=3.0.2 in /usr/local/lib/python3.7/dist-packages (from requests>=2.0.0->requests-oauthlib>=1.3->twarc) (3.0.4)\n",
            "Requirement already satisfied: typing-extensions>=3.6.4 in /usr/local/lib/python3.7/dist-packages (from importlib-metadata->humanize>=3.9->twarc) (3.10.0.2)\n",
            "Requirement already satisfied: zipp>=0.5 in /usr/local/lib/python3.7/dist-packages (from importlib-metadata->humanize>=3.9->twarc) (3.7.0)\n",
            "Building wheels for collected packages: configobj\n",
            "  Building wheel for configobj (setup.py) ... \u001b[?25l\u001b[?25hdone\n",
            "  Created wheel for configobj: filename=configobj-5.0.6-py3-none-any.whl size=34547 sha256=c06dedc7ea296f79bf175e8c89c515f4028a38c1d7fbe2a3274c99ad0f31489b\n",
            "  Stored in directory: /root/.cache/pip/wheels/0d/c4/19/13d74440f2a571841db6b6e0a273694327498884dafb9cf978\n",
            "Successfully built configobj\n",
            "Installing collected packages: configobj, humanize, click-plugins, click-config-file, twarc\n",
            "  Attempting uninstall: humanize\n",
            "    Found existing installation: humanize 0.5.1\n",
            "    Uninstalling humanize-0.5.1:\n",
            "      Successfully uninstalled humanize-0.5.1\n",
            "Successfully installed click-config-file-0.6.0 click-plugins-1.1.1 configobj-5.0.6 humanize-4.0.0 twarc-2.9.4\n",
            "Collecting twarc-csv\n",
            "  Downloading twarc-csv-0.5.1.tar.gz (7.9 kB)\n",
            "Requirement already satisfied: twarc>=2.8.0 in /usr/local/lib/python3.7/dist-packages (from twarc-csv) (2.9.4)\n",
            "Requirement already satisfied: pandas>=1.2.5 in /usr/local/lib/python3.7/dist-packages (from twarc-csv) (1.3.5)\n",
            "Requirement already satisfied: more-itertools>=8.7.0 in /usr/local/lib/python3.7/dist-packages (from twarc-csv) (8.12.0)\n",
            "Requirement already satisfied: tqdm>=4.59.0 in /usr/local/lib/python3.7/dist-packages (from twarc-csv) (4.63.0)\n",
            "Requirement already satisfied: python-dateutil>=2.7.3 in /usr/local/lib/python3.7/dist-packages (from pandas>=1.2.5->twarc-csv) (2.8.2)\n",
            "Requirement already satisfied: numpy>=1.17.3 in /usr/local/lib/python3.7/dist-packages (from pandas>=1.2.5->twarc-csv) (1.21.5)\n",
            "Requirement already satisfied: pytz>=2017.3 in /usr/local/lib/python3.7/dist-packages (from pandas>=1.2.5->twarc-csv) (2018.9)\n",
            "Requirement already satisfied: six>=1.5 in /usr/local/lib/python3.7/dist-packages (from python-dateutil>=2.7.3->pandas>=1.2.5->twarc-csv) (1.15.0)\n",
            "Requirement already satisfied: humanize>=3.9 in /usr/local/lib/python3.7/dist-packages (from twarc>=2.8.0->twarc-csv) (4.0.0)\n",
            "Requirement already satisfied: click<9,>=7 in /usr/local/lib/python3.7/dist-packages (from twarc>=2.8.0->twarc-csv) (7.1.2)\n",
            "Requirement already satisfied: requests-oauthlib>=1.3 in /usr/local/lib/python3.7/dist-packages (from twarc>=2.8.0->twarc-csv) (1.3.1)\n",
            "Requirement already satisfied: click-plugins>=1 in /usr/local/lib/python3.7/dist-packages (from twarc>=2.8.0->twarc-csv) (1.1.1)\n",
            "Requirement already satisfied: click-config-file>=0.6 in /usr/local/lib/python3.7/dist-packages (from twarc>=2.8.0->twarc-csv) (0.6.0)\n",
            "Requirement already satisfied: configobj>=5.0.6 in /usr/local/lib/python3.7/dist-packages (from click-config-file>=0.6->twarc>=2.8.0->twarc-csv) (5.0.6)\n",
            "Requirement already satisfied: importlib-metadata in /usr/local/lib/python3.7/dist-packages (from humanize>=3.9->twarc>=2.8.0->twarc-csv) (4.11.2)\n",
            "Requirement already satisfied: oauthlib>=3.0.0 in /usr/local/lib/python3.7/dist-packages (from requests-oauthlib>=1.3->twarc>=2.8.0->twarc-csv) (3.2.0)\n",
            "Requirement already satisfied: requests>=2.0.0 in /usr/local/lib/python3.7/dist-packages (from requests-oauthlib>=1.3->twarc>=2.8.0->twarc-csv) (2.23.0)\n",
            "Requirement already satisfied: certifi>=2017.4.17 in /usr/local/lib/python3.7/dist-packages (from requests>=2.0.0->requests-oauthlib>=1.3->twarc>=2.8.0->twarc-csv) (2021.10.8)\n",
            "Requirement already satisfied: chardet<4,>=3.0.2 in /usr/local/lib/python3.7/dist-packages (from requests>=2.0.0->requests-oauthlib>=1.3->twarc>=2.8.0->twarc-csv) (3.0.4)\n",
            "Requirement already satisfied: idna<3,>=2.5 in /usr/local/lib/python3.7/dist-packages (from requests>=2.0.0->requests-oauthlib>=1.3->twarc>=2.8.0->twarc-csv) (2.10)\n",
            "Requirement already satisfied: urllib3!=1.25.0,!=1.25.1,<1.26,>=1.21.1 in /usr/local/lib/python3.7/dist-packages (from requests>=2.0.0->requests-oauthlib>=1.3->twarc>=2.8.0->twarc-csv) (1.24.3)\n",
            "Requirement already satisfied: typing-extensions>=3.6.4 in /usr/local/lib/python3.7/dist-packages (from importlib-metadata->humanize>=3.9->twarc>=2.8.0->twarc-csv) (3.10.0.2)\n",
            "Requirement already satisfied: zipp>=0.5 in /usr/local/lib/python3.7/dist-packages (from importlib-metadata->humanize>=3.9->twarc>=2.8.0->twarc-csv) (3.7.0)\n",
            "Building wheels for collected packages: twarc-csv\n",
            "  Building wheel for twarc-csv (setup.py) ... \u001b[?25l\u001b[?25hdone\n",
            "  Created wheel for twarc-csv: filename=twarc_csv-0.5.1-py3-none-any.whl size=9252 sha256=166f5a01579ff06c8fa35239426d3c81dce3e7cdb53e4443f6cb98e123465c84\n",
            "  Stored in directory: /root/.cache/pip/wheels/73/dc/97/79b383774eb06f882d070b3dfa18fad517c94c358d8a703e61\n",
            "Successfully built twarc-csv\n",
            "Installing collected packages: twarc-csv\n",
            "Successfully installed twarc-csv-0.5.1\n"
          ]
        }
      ]
    },
    {
      "cell_type": "markdown",
      "source": [
        "...then you will have to configure TWARC2 (version 2.0).  \n",
        "Run the cell, then add (manually) the \"Bearer Token\" (you find it in the csv file)  \n",
        "Then just select (n), i.e. no additional authentication methods \n",
        "Finally, please delete the output cell (because in it the BearerToken will be printed)"
      ],
      "metadata": {
        "id": "v14UDk41g7cj"
      }
    },
    {
      "cell_type": "code",
      "source": [
        "!twarc2 configure"
      ],
      "metadata": {
        "id": "RGvJ0sTng6ka"
      },
      "execution_count": null,
      "outputs": []
    },
    {
      "cell_type": "code",
      "source": [
        "!twarc2 search --limit 100 \"Tesla\" results.jsonl"
      ],
      "metadata": {
        "id": "iGIlr4IuhrE_",
        "outputId": "c5562ded-5ffb-4014-fed8-555510d8c12d",
        "colab": {
          "base_uri": "https://localhost:8080/"
        }
      },
      "execution_count": 22,
      "outputs": [
        {
          "output_type": "stream",
          "name": "stdout",
          "text": [
            "Set --limit of 100 reached:   0% 269665/604770000 [00:01<39:49, 252965.14it/s]\n"
          ]
        }
      ]
    },
    {
      "cell_type": "markdown",
      "source": [
        "More info on query arguments: https://twarc-project.readthedocs.io/en/latest/twarc2_en_us/"
      ],
      "metadata": {
        "id": "-8voi2-5jrab"
      }
    },
    {
      "cell_type": "code",
      "source": [
        "# convert the json into csv (friendlier for pandas)\n",
        "\n",
        "!twarc2 csv results.jsonl tweets.csv"
      ],
      "metadata": {
        "id": "ZQaf7Gm-h0oT",
        "outputId": "b1c050f8-1d49-40e9-9e85-748d718a8d9f",
        "colab": {
          "base_uri": "https://localhost:8080/"
        }
      },
      "execution_count": 23,
      "outputs": [
        {
          "output_type": "stream",
          "name": "stdout",
          "text": [
            "\r  0% 0.00/596k [00:00<?, ?B/s]\r100% 596k/596k [00:00<00:00, 4.18MB/s]\n",
            "\n",
            "ℹ️\n",
            "Parsed 100 tweets objects from 1 lines in the input file.\n",
            "Wrote 100 rows and output 74 columns in the CSV.\n",
            "\n"
          ]
        }
      ]
    },
    {
      "cell_type": "code",
      "source": [
        "# read the csv and explore it\n",
        "\n",
        "df = pd.read_csv('tweets.csv')\n",
        "df.head()"
      ],
      "metadata": {
        "id": "iRT80h-ciHmH",
        "outputId": "bc188259-7210-49ea-89c7-c84263c74a58",
        "colab": {
          "base_uri": "https://localhost:8080/",
          "height": 491
        }
      },
      "execution_count": 24,
      "outputs": [
        {
          "output_type": "execute_result",
          "data": {
            "text/html": [
              "\n",
              "  <div id=\"df-fd8eeb1e-a36b-440b-9323-7d54dfda2890\">\n",
              "    <div class=\"colab-df-container\">\n",
              "      <div>\n",
              "<style scoped>\n",
              "    .dataframe tbody tr th:only-of-type {\n",
              "        vertical-align: middle;\n",
              "    }\n",
              "\n",
              "    .dataframe tbody tr th {\n",
              "        vertical-align: top;\n",
              "    }\n",
              "\n",
              "    .dataframe thead th {\n",
              "        text-align: right;\n",
              "    }\n",
              "</style>\n",
              "<table border=\"1\" class=\"dataframe\">\n",
              "  <thead>\n",
              "    <tr style=\"text-align: right;\">\n",
              "      <th></th>\n",
              "      <th>id</th>\n",
              "      <th>conversation_id</th>\n",
              "      <th>referenced_tweets.replied_to.id</th>\n",
              "      <th>referenced_tweets.retweeted.id</th>\n",
              "      <th>referenced_tweets.quoted.id</th>\n",
              "      <th>author_id</th>\n",
              "      <th>in_reply_to_user_id</th>\n",
              "      <th>retweeted_user_id</th>\n",
              "      <th>quoted_user_id</th>\n",
              "      <th>created_at</th>\n",
              "      <th>...</th>\n",
              "      <th>geo.geo.bbox</th>\n",
              "      <th>geo.geo.type</th>\n",
              "      <th>geo.id</th>\n",
              "      <th>geo.name</th>\n",
              "      <th>geo.place_id</th>\n",
              "      <th>geo.place_type</th>\n",
              "      <th>__twarc.retrieved_at</th>\n",
              "      <th>__twarc.url</th>\n",
              "      <th>__twarc.version</th>\n",
              "      <th>Unnamed: 73</th>\n",
              "    </tr>\n",
              "  </thead>\n",
              "  <tbody>\n",
              "    <tr>\n",
              "      <th>0</th>\n",
              "      <td>1499711076702826500</td>\n",
              "      <td>1499593697578471428</td>\n",
              "      <td>1.499594e+18</td>\n",
              "      <td>NaN</td>\n",
              "      <td>NaN</td>\n",
              "      <td>1499702780902232069</td>\n",
              "      <td>1.488702e+18</td>\n",
              "      <td>NaN</td>\n",
              "      <td>NaN</td>\n",
              "      <td>2022-03-04T11:39:18.000Z</td>\n",
              "      <td>...</td>\n",
              "      <td>NaN</td>\n",
              "      <td>NaN</td>\n",
              "      <td>NaN</td>\n",
              "      <td>NaN</td>\n",
              "      <td>NaN</td>\n",
              "      <td>NaN</td>\n",
              "      <td>2022-03-04T11:39:31+00:00</td>\n",
              "      <td>https://api.twitter.com/2/tweets/search/recent...</td>\n",
              "      <td>2.9.4</td>\n",
              "      <td>NaN</td>\n",
              "    </tr>\n",
              "    <tr>\n",
              "      <th>1</th>\n",
              "      <td>1499711068175753217</td>\n",
              "      <td>1499711068175753217</td>\n",
              "      <td>NaN</td>\n",
              "      <td>1.499404e+18</td>\n",
              "      <td>NaN</td>\n",
              "      <td>2904173352</td>\n",
              "      <td>NaN</td>\n",
              "      <td>8.815939e+17</td>\n",
              "      <td>NaN</td>\n",
              "      <td>2022-03-04T11:39:16.000Z</td>\n",
              "      <td>...</td>\n",
              "      <td>NaN</td>\n",
              "      <td>NaN</td>\n",
              "      <td>NaN</td>\n",
              "      <td>NaN</td>\n",
              "      <td>NaN</td>\n",
              "      <td>NaN</td>\n",
              "      <td>2022-03-04T11:39:31+00:00</td>\n",
              "      <td>https://api.twitter.com/2/tweets/search/recent...</td>\n",
              "      <td>2.9.4</td>\n",
              "      <td>NaN</td>\n",
              "    </tr>\n",
              "    <tr>\n",
              "      <th>2</th>\n",
              "      <td>1499711065638445068</td>\n",
              "      <td>1499711065638445068</td>\n",
              "      <td>NaN</td>\n",
              "      <td>NaN</td>\n",
              "      <td>NaN</td>\n",
              "      <td>1160814205001318400</td>\n",
              "      <td>NaN</td>\n",
              "      <td>NaN</td>\n",
              "      <td>NaN</td>\n",
              "      <td>2022-03-04T11:39:15.000Z</td>\n",
              "      <td>...</td>\n",
              "      <td>NaN</td>\n",
              "      <td>NaN</td>\n",
              "      <td>NaN</td>\n",
              "      <td>NaN</td>\n",
              "      <td>NaN</td>\n",
              "      <td>NaN</td>\n",
              "      <td>2022-03-04T11:39:31+00:00</td>\n",
              "      <td>https://api.twitter.com/2/tweets/search/recent...</td>\n",
              "      <td>2.9.4</td>\n",
              "      <td>NaN</td>\n",
              "    </tr>\n",
              "    <tr>\n",
              "      <th>3</th>\n",
              "      <td>1499711056029097984</td>\n",
              "      <td>1499711056029097984</td>\n",
              "      <td>NaN</td>\n",
              "      <td>1.499595e+18</td>\n",
              "      <td>NaN</td>\n",
              "      <td>2904173352</td>\n",
              "      <td>NaN</td>\n",
              "      <td>1.158664e+18</td>\n",
              "      <td>NaN</td>\n",
              "      <td>2022-03-04T11:39:13.000Z</td>\n",
              "      <td>...</td>\n",
              "      <td>NaN</td>\n",
              "      <td>NaN</td>\n",
              "      <td>NaN</td>\n",
              "      <td>NaN</td>\n",
              "      <td>NaN</td>\n",
              "      <td>NaN</td>\n",
              "      <td>2022-03-04T11:39:31+00:00</td>\n",
              "      <td>https://api.twitter.com/2/tweets/search/recent...</td>\n",
              "      <td>2.9.4</td>\n",
              "      <td>NaN</td>\n",
              "    </tr>\n",
              "    <tr>\n",
              "      <th>4</th>\n",
              "      <td>1499711024940867584</td>\n",
              "      <td>1499711024940867584</td>\n",
              "      <td>NaN</td>\n",
              "      <td>1.499678e+18</td>\n",
              "      <td>NaN</td>\n",
              "      <td>1347600001</td>\n",
              "      <td>NaN</td>\n",
              "      <td>1.263491e+18</td>\n",
              "      <td>NaN</td>\n",
              "      <td>2022-03-04T11:39:06.000Z</td>\n",
              "      <td>...</td>\n",
              "      <td>NaN</td>\n",
              "      <td>NaN</td>\n",
              "      <td>NaN</td>\n",
              "      <td>NaN</td>\n",
              "      <td>NaN</td>\n",
              "      <td>NaN</td>\n",
              "      <td>2022-03-04T11:39:31+00:00</td>\n",
              "      <td>https://api.twitter.com/2/tweets/search/recent...</td>\n",
              "      <td>2.9.4</td>\n",
              "      <td>NaN</td>\n",
              "    </tr>\n",
              "  </tbody>\n",
              "</table>\n",
              "<p>5 rows × 74 columns</p>\n",
              "</div>\n",
              "      <button class=\"colab-df-convert\" onclick=\"convertToInteractive('df-fd8eeb1e-a36b-440b-9323-7d54dfda2890')\"\n",
              "              title=\"Convert this dataframe to an interactive table.\"\n",
              "              style=\"display:none;\">\n",
              "        \n",
              "  <svg xmlns=\"http://www.w3.org/2000/svg\" height=\"24px\"viewBox=\"0 0 24 24\"\n",
              "       width=\"24px\">\n",
              "    <path d=\"M0 0h24v24H0V0z\" fill=\"none\"/>\n",
              "    <path d=\"M18.56 5.44l.94 2.06.94-2.06 2.06-.94-2.06-.94-.94-2.06-.94 2.06-2.06.94zm-11 1L8.5 8.5l.94-2.06 2.06-.94-2.06-.94L8.5 2.5l-.94 2.06-2.06.94zm10 10l.94 2.06.94-2.06 2.06-.94-2.06-.94-.94-2.06-.94 2.06-2.06.94z\"/><path d=\"M17.41 7.96l-1.37-1.37c-.4-.4-.92-.59-1.43-.59-.52 0-1.04.2-1.43.59L10.3 9.45l-7.72 7.72c-.78.78-.78 2.05 0 2.83L4 21.41c.39.39.9.59 1.41.59.51 0 1.02-.2 1.41-.59l7.78-7.78 2.81-2.81c.8-.78.8-2.07 0-2.86zM5.41 20L4 18.59l7.72-7.72 1.47 1.35L5.41 20z\"/>\n",
              "  </svg>\n",
              "      </button>\n",
              "      \n",
              "  <style>\n",
              "    .colab-df-container {\n",
              "      display:flex;\n",
              "      flex-wrap:wrap;\n",
              "      gap: 12px;\n",
              "    }\n",
              "\n",
              "    .colab-df-convert {\n",
              "      background-color: #E8F0FE;\n",
              "      border: none;\n",
              "      border-radius: 50%;\n",
              "      cursor: pointer;\n",
              "      display: none;\n",
              "      fill: #1967D2;\n",
              "      height: 32px;\n",
              "      padding: 0 0 0 0;\n",
              "      width: 32px;\n",
              "    }\n",
              "\n",
              "    .colab-df-convert:hover {\n",
              "      background-color: #E2EBFA;\n",
              "      box-shadow: 0px 1px 2px rgba(60, 64, 67, 0.3), 0px 1px 3px 1px rgba(60, 64, 67, 0.15);\n",
              "      fill: #174EA6;\n",
              "    }\n",
              "\n",
              "    [theme=dark] .colab-df-convert {\n",
              "      background-color: #3B4455;\n",
              "      fill: #D2E3FC;\n",
              "    }\n",
              "\n",
              "    [theme=dark] .colab-df-convert:hover {\n",
              "      background-color: #434B5C;\n",
              "      box-shadow: 0px 1px 3px 1px rgba(0, 0, 0, 0.15);\n",
              "      filter: drop-shadow(0px 1px 2px rgba(0, 0, 0, 0.3));\n",
              "      fill: #FFFFFF;\n",
              "    }\n",
              "  </style>\n",
              "\n",
              "      <script>\n",
              "        const buttonEl =\n",
              "          document.querySelector('#df-fd8eeb1e-a36b-440b-9323-7d54dfda2890 button.colab-df-convert');\n",
              "        buttonEl.style.display =\n",
              "          google.colab.kernel.accessAllowed ? 'block' : 'none';\n",
              "\n",
              "        async function convertToInteractive(key) {\n",
              "          const element = document.querySelector('#df-fd8eeb1e-a36b-440b-9323-7d54dfda2890');\n",
              "          const dataTable =\n",
              "            await google.colab.kernel.invokeFunction('convertToInteractive',\n",
              "                                                     [key], {});\n",
              "          if (!dataTable) return;\n",
              "\n",
              "          const docLinkHtml = 'Like what you see? Visit the ' +\n",
              "            '<a target=\"_blank\" href=https://colab.research.google.com/notebooks/data_table.ipynb>data table notebook</a>'\n",
              "            + ' to learn more about interactive tables.';\n",
              "          element.innerHTML = '';\n",
              "          dataTable['output_type'] = 'display_data';\n",
              "          await google.colab.output.renderOutput(dataTable, element);\n",
              "          const docLink = document.createElement('div');\n",
              "          docLink.innerHTML = docLinkHtml;\n",
              "          element.appendChild(docLink);\n",
              "        }\n",
              "      </script>\n",
              "    </div>\n",
              "  </div>\n",
              "  "
            ],
            "text/plain": [
              "                    id      conversation_id  referenced_tweets.replied_to.id  \\\n",
              "0  1499711076702826500  1499593697578471428                     1.499594e+18   \n",
              "1  1499711068175753217  1499711068175753217                              NaN   \n",
              "2  1499711065638445068  1499711065638445068                              NaN   \n",
              "3  1499711056029097984  1499711056029097984                              NaN   \n",
              "4  1499711024940867584  1499711024940867584                              NaN   \n",
              "\n",
              "   referenced_tweets.retweeted.id  referenced_tweets.quoted.id  \\\n",
              "0                             NaN                          NaN   \n",
              "1                    1.499404e+18                          NaN   \n",
              "2                             NaN                          NaN   \n",
              "3                    1.499595e+18                          NaN   \n",
              "4                    1.499678e+18                          NaN   \n",
              "\n",
              "             author_id  in_reply_to_user_id  retweeted_user_id  \\\n",
              "0  1499702780902232069         1.488702e+18                NaN   \n",
              "1           2904173352                  NaN       8.815939e+17   \n",
              "2  1160814205001318400                  NaN                NaN   \n",
              "3           2904173352                  NaN       1.158664e+18   \n",
              "4           1347600001                  NaN       1.263491e+18   \n",
              "\n",
              "   quoted_user_id                created_at  ... geo.geo.bbox geo.geo.type  \\\n",
              "0             NaN  2022-03-04T11:39:18.000Z  ...          NaN          NaN   \n",
              "1             NaN  2022-03-04T11:39:16.000Z  ...          NaN          NaN   \n",
              "2             NaN  2022-03-04T11:39:15.000Z  ...          NaN          NaN   \n",
              "3             NaN  2022-03-04T11:39:13.000Z  ...          NaN          NaN   \n",
              "4             NaN  2022-03-04T11:39:06.000Z  ...          NaN          NaN   \n",
              "\n",
              "  geo.id  geo.name  geo.place_id  geo.place_type       __twarc.retrieved_at  \\\n",
              "0    NaN       NaN           NaN             NaN  2022-03-04T11:39:31+00:00   \n",
              "1    NaN       NaN           NaN             NaN  2022-03-04T11:39:31+00:00   \n",
              "2    NaN       NaN           NaN             NaN  2022-03-04T11:39:31+00:00   \n",
              "3    NaN       NaN           NaN             NaN  2022-03-04T11:39:31+00:00   \n",
              "4    NaN       NaN           NaN             NaN  2022-03-04T11:39:31+00:00   \n",
              "\n",
              "                                         __twarc.url  __twarc.version  \\\n",
              "0  https://api.twitter.com/2/tweets/search/recent...            2.9.4   \n",
              "1  https://api.twitter.com/2/tweets/search/recent...            2.9.4   \n",
              "2  https://api.twitter.com/2/tweets/search/recent...            2.9.4   \n",
              "3  https://api.twitter.com/2/tweets/search/recent...            2.9.4   \n",
              "4  https://api.twitter.com/2/tweets/search/recent...            2.9.4   \n",
              "\n",
              "   Unnamed: 73  \n",
              "0          NaN  \n",
              "1          NaN  \n",
              "2          NaN  \n",
              "3          NaN  \n",
              "4          NaN  \n",
              "\n",
              "[5 rows x 74 columns]"
            ]
          },
          "metadata": {},
          "execution_count": 24
        }
      ]
    },
    {
      "cell_type": "code",
      "source": [
        "for item in df.text:\n",
        "  print(item)"
      ],
      "metadata": {
        "id": "0Rn7VOMsiNZD"
      },
      "execution_count": null,
      "outputs": []
    },
    {
      "cell_type": "code",
      "source": [
        "for item in df.lang:\n",
        "  print(item)"
      ],
      "metadata": {
        "id": "IcDCkvCsiRd9"
      },
      "execution_count": null,
      "outputs": []
    }
  ]
}